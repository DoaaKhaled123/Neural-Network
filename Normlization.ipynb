{
 "cells": [
  {
   "cell_type": "code",
   "execution_count": 5,
   "metadata": {},
   "outputs": [
    {
     "name": "stdout",
     "output_type": "stream",
     "text": [
      "(5, 4)\n",
      "[12. 20. 13. 44. 42.]\n"
     ]
    }
   ],
   "source": [
    "import numpy as np\n",
    "from numpy import linalg as LA\n",
    "X = np.array([[1, 2, 3, 6],\n",
    "              [4, 5, 6, 5],\n",
    "              [1, 2, 5, 5],\n",
    "              [4, 5,10,25],\n",
    "              [5, 2,10,25]])\n",
    "\n",
    "print (X.shape)\n",
    "x = np.array([LA.norm(v,ord=1) for v in X])\n",
    "print (x)\n"
   ]
  },
  {
   "cell_type": "code",
   "execution_count": 1,
   "metadata": {},
   "outputs": [
    {
     "name": "stdout",
     "output_type": "stream",
     "text": [
      "(5, 4)\n",
      "[12. 20. 13. 44. 42.]\n"
     ]
    }
   ],
   "source": [
    "import numpy as np\n",
    "from numpy import linalg as LA\n",
    "X = np.array([[1, 2, 3, 6],\n",
    "              [4, 5, 6, 5],\n",
    "              [1, 2, 5, 5],\n",
    "              [4, 5,10,25],\n",
    "              [5, 2,10,25]])\n",
    "\n",
    "print (X.shape)\n",
    "x = np.array([LA.norm(v,ord=1) for v in X])\n",
    "print (x)"
   ]
  },
  {
   "cell_type": "code",
   "execution_count": null,
   "metadata": {},
   "outputs": [],
   "source": []
  }
 ],
 "metadata": {
  "kernelspec": {
   "display_name": "Python 3",
   "language": "python",
   "name": "python3"
  },
  "language_info": {
   "codemirror_mode": {
    "name": "ipython",
    "version": 3
   },
   "file_extension": ".py",
   "mimetype": "text/x-python",
   "name": "python",
   "nbconvert_exporter": "python",
   "pygments_lexer": "ipython3",
   "version": "3.6.4"
  }
 },
 "nbformat": 4,
 "nbformat_minor": 2
}
