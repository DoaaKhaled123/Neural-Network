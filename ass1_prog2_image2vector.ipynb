{
 "cells": [
  {
   "cell_type": "code",
   "execution_count": 3,
   "metadata": {},
   "outputs": [
    {
     "name": "stdout",
     "output_type": "stream",
     "text": [
      "image2vector(image) = [[0.6104403 ]\n",
      " [0.41593567]\n",
      " [0.95681068]\n",
      " [0.69314768]\n",
      " [0.5494038 ]\n",
      " [0.20296936]\n",
      " [0.72994491]\n",
      " [0.76511217]\n",
      " [0.96915414]\n",
      " [0.28966602]\n",
      " [0.41609127]\n",
      " [0.62591309]\n",
      " [0.01684259]\n",
      " [0.34707934]\n",
      " [0.05488391]\n",
      " [0.67188853]\n",
      " [0.96110756]\n",
      " [0.79960665]]\n"
     ]
    }
   ],
   "source": [
    "import numpy as np\n",
    "def image2vector(image):\n",
    "    v = image.reshape(image.shape[0] * image.shape[1] * image.shape[2], 1)\n",
    "    return v\n",
    "image = np.random.rand(3,3,2)\n",
    "print(\"image2vector(image) = \" + str(image2vector(image)))"
   ]
  },
  {
   "cell_type": "code",
   "execution_count": null,
   "metadata": {},
   "outputs": [],
   "source": []
  }
 ],
 "metadata": {
  "kernelspec": {
   "display_name": "Python 3",
   "language": "python",
   "name": "python3"
  },
  "language_info": {
   "codemirror_mode": {
    "name": "ipython",
    "version": 3
   },
   "file_extension": ".py",
   "mimetype": "text/x-python",
   "name": "python",
   "nbconvert_exporter": "python",
   "pygments_lexer": "ipython3",
   "version": "3.6.4"
  }
 },
 "nbformat": 4,
 "nbformat_minor": 2
}
