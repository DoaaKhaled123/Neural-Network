{
 "cells": [
  {
   "cell_type": "code",
   "execution_count": 1,
   "metadata": {},
   "outputs": [
    {
     "name": "stdout",
     "output_type": "stream",
     "text": [
      "L1 = 1.0999999999999999\n"
     ]
    }
   ],
   "source": [
    "import numpy as np\n",
    "def L1(y_hat, y):\n",
    "    s = np.sum(np.abs(y - y_hat))\n",
    "    return s\n",
    "y_hat = np.array([.9,0.2,0.1,.4,.9])\n",
    "y = np.array([1,0,0,1,1])\n",
    "print(\"L1 = \" + str(L1(y_hat,y)))"
   ]
  },
  {
   "cell_type": "code",
   "execution_count": 2,
   "metadata": {},
   "outputs": [
    {
     "name": "stdout",
     "output_type": "stream",
     "text": [
      "L2 = 0.43000000000000005\n"
     ]
    }
   ],
   "source": [
    "import numpy as np\n",
    "def L2(y_hat,y):\n",
    "    s = np.dot(y - y_hat, y - y_hat)\n",
    "    #s = np.sum(np.square(y - y_hat))\n",
    "    return s\n",
    "print(\"L2 = \" + str(L2(y_hat,y)))"
   ]
  },
  {
   "cell_type": "code",
   "execution_count": null,
   "metadata": {},
   "outputs": [],
   "source": []
  }
 ],
 "metadata": {
  "kernelspec": {
   "display_name": "Python 3",
   "language": "python",
   "name": "python3"
  },
  "language_info": {
   "codemirror_mode": {
    "name": "ipython",
    "version": 3
   },
   "file_extension": ".py",
   "mimetype": "text/x-python",
   "name": "python",
   "nbconvert_exporter": "python",
   "pygments_lexer": "ipython3",
   "version": "3.6.4"
  }
 },
 "nbformat": 4,
 "nbformat_minor": 2
}
